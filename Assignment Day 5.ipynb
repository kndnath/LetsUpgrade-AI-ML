{
 "cells": [
  {
   "cell_type": "code",
   "execution_count": 1,
   "metadata": {},
   "outputs": [
    {
     "name": "stdout",
     "output_type": "stream",
     "text": [
      "3\n",
      "5\n",
      "7\n",
      "9\n",
      "11\n",
      "13\n",
      "15\n",
      "17\n",
      "19\n",
      "21\n",
      "23\n",
      "25\n",
      "27\n",
      "29\n",
      "31\n",
      "33\n",
      "35\n",
      "37\n",
      "39\n",
      "41\n"
     ]
    }
   ],
   "source": [
    "# Question 1 :\n",
    "# Write a Python program to find the first 20 non-even prime natural numbers.\n",
    "\n",
    "def PrimeNumbers(num):\n",
    "    if num > 2:\n",
    "        for i in range(2,num):\n",
    "            if(num % i) == 0:\n",
    "                return 0\n",
    "            else:\n",
    "                if(num % 2) == 0:\n",
    "                    return 0\n",
    "                else:\n",
    "                    return num\n",
    "    else:\n",
    "        return 0\n",
    "    \n",
    "r = range(50)\n",
    "count = 1\n",
    "for i in r:\n",
    "    a = PrimeNumbers(i)\n",
    "    if count == 21:\n",
    "        break\n",
    "    if a > 0:\n",
    "        print(a)\n",
    "        count = count + 1"
   ]
  },
  {
   "cell_type": "code",
   "execution_count": 2,
   "metadata": {},
   "outputs": [
    {
     "name": "stdout",
     "output_type": "stream",
     "text": [
      "1. Upper function:  MY NAME IS DWARAKNATH.\n",
      "2. Capitalize function:  My name is dwaraknath.\n",
      "3. Lower function:  my name is dwaraknath.\n",
      "4. Split function:  ['MY', 'NAME', 'IS', 'DWARAKNATH.']\n",
      "5. Title function:  My Name Is Dwaraknath.\n",
      "6. Swap function:  mY NAME IS dWARAKNATH k n\n",
      "7. Count function:  4\n",
      "8. Endswith function:  False\n",
      "9. Startswith function:  True\n",
      "10. Index function:  11\n",
      "11. Replace function:  My name is Manjunath K N\n",
      "12. IsIdentifier function:  True\n",
      "13. Splitlines function:  ['My name is ', 'Dwaraknath K N']\n",
      "14. isalnum function:  False\n",
      "15. Isspace function:  False\n"
     ]
    }
   ],
   "source": [
    "# Question 2 :\n",
    "# Write a Python program to implement 15 functions of string.\n",
    "\n",
    "#1\n",
    "#upper\n",
    "string = \"my name is dwaraknath.\" \n",
    "\n",
    "print(\"1. Upper function: \",string.upper())\n",
    "\n",
    "#2\n",
    "#capitalize\n",
    "string = \"my name is dwaraknath.\" \n",
    "print(\"2. Capitalize function: \",string.capitalize())\n",
    "\n",
    "#3\n",
    "#lower\n",
    "string = \"MY NAME IS DWARAKNATH.\" \n",
    "print(\"3. Lower function: \",string.lower())\n",
    "\n",
    "#4\n",
    "#split\n",
    "string = \"MY NAME IS DWARAKNATH.\" \n",
    "print(\"4. Split function: \",string.split())\n",
    "\n",
    "#5\n",
    "#title\n",
    "string = \"MY NAME IS DWARAKNATH.\" \n",
    "print(\"5. Title function: \",string.title())\n",
    "\n",
    "#6\n",
    "#swap case\n",
    "string = \"My name is Dwaraknath K N\" \n",
    "print(\"6. Swap function: \",string.swapcase())\n",
    "\n",
    "#7\n",
    "#count\n",
    "string = \"My name is Dwaraknath K N\" \n",
    "print(\"7. Count function: \",string.count('a'))\n",
    "\n",
    "#8\n",
    "#endswith\n",
    "string = \"My name is Dwaraknath K N\" \n",
    "print(\"8. Endswith function: \",string.endswith('.'))\n",
    "\n",
    "#9\n",
    "#startswith\n",
    "string = \"My name is Dwaraknath K N\" \n",
    "print(\"9. Startswith function: \",string.startswith('My'))\n",
    "\n",
    "#10\n",
    "#index\n",
    "string = \"My name is Dwaraknath K N\" \n",
    "print(\"10. Index function: \",string.index('D'))\n",
    "\n",
    "#11\n",
    "#replace\n",
    "string = \"My name is Dwaraknath K N\" \n",
    "print(\"11. Replace function: \",string.replace('Dwaraknath','Manjunath'))\n",
    "\n",
    "#12\n",
    "#isidentifier\n",
    "string = \"MynameisDwaraknathKN\" \n",
    "print(\"12. IsIdentifier function: \",string.isidentifier())\n",
    "\n",
    "#13\n",
    "#splitlines\n",
    "string = \"My name is \\nDwaraknath K N\"  \n",
    "print(\"13. Splitlines function: \",string.splitlines())\n",
    "\n",
    "#14\n",
    "#isalnum\n",
    "string = \"My name is Dwaraknath K N\"  \n",
    "print(\"14. isalnum function: \",string.isalnum())\n",
    "\n",
    "#15\n",
    "#isspace\n",
    "string = \"My name is Dwaraknath K N\"  \n",
    "print(\"15. Isspace function: \",string.isspace())"
   ]
  },
  {
   "cell_type": "code",
   "execution_count": 3,
   "metadata": {},
   "outputs": [],
   "source": [
    "# Question 3:\n",
    "# Write a Python program to check if the given string is a Palindrome or Anagram or None of them.\n",
    "# Display the message accordingly to the user.\n",
    "\n",
    "def question3(str1=\"\",str2=\"\"): \n",
    "    if (str1 != \"\" and str2 == \"\"):\n",
    "        if str1 == str1[::-1] :\n",
    "            return \"Palindrome\"\n",
    "    elif(str1 != \"\" and str2 != \"\"):\n",
    "        if (sorted(str1) == sorted(str2)):\n",
    "                return \"Anagram\"\n",
    "        else:\n",
    "            return \"None\"\n",
    "    "
   ]
  },
  {
   "cell_type": "code",
   "execution_count": 4,
   "metadata": {},
   "outputs": [
    {
     "data": {
      "text/plain": [
       "'Palindrome'"
      ]
     },
     "execution_count": 4,
     "metadata": {},
     "output_type": "execute_result"
    }
   ],
   "source": [
    "# Question 3:\n",
    "a = question3(\"civic\")\n",
    "a"
   ]
  },
  {
   "cell_type": "code",
   "execution_count": 6,
   "metadata": {},
   "outputs": [
    {
     "data": {
      "text/plain": [
       "'Anagram'"
      ]
     },
     "execution_count": 6,
     "metadata": {},
     "output_type": "execute_result"
    }
   ],
   "source": [
    "# Question 3:\n",
    "b = question3(str1=\"heart\",str2=\"earth\")\n",
    "b"
   ]
  },
  {
   "cell_type": "code",
   "execution_count": 7,
   "metadata": {},
   "outputs": [
    {
     "data": {
      "text/plain": [
       "'None'"
      ]
     },
     "execution_count": 7,
     "metadata": {},
     "output_type": "execute_result"
    }
   ],
   "source": [
    "# Question 3:\n",
    "c = question3(\"a\",\"b\")\n",
    "c"
   ]
  },
  {
   "cell_type": "code",
   "execution_count": 8,
   "metadata": {},
   "outputs": [],
   "source": [
    "# Question 4:\n",
    "# Write a Python's user defined function that removes all the additional characters from the string\n",
    "# and converts it finally to lower case using built-in lower(). eg: If the string is \"Dr. Darshan Ingle\n",
    "# @AI-ML Trainer\", then the output be \"drdarshaningleaimltrainer\".\n",
    "\n",
    "def question4(inputStr):\n",
    "    semiStr = \"\"\n",
    "    finalStr = \"\"\n",
    "    for char in inputStr:\n",
    "        if char.isalnum():\n",
    "            semiStr += char\n",
    "    finalStr = semiStr.lower()\n",
    "    return finalStr\n"
   ]
  },
  {
   "cell_type": "code",
   "execution_count": 9,
   "metadata": {},
   "outputs": [
    {
     "name": "stdout",
     "output_type": "stream",
     "text": [
      "drdarshaningleaimltrainer\n"
     ]
    }
   ],
   "source": [
    "print(question4(\"Dr. Darshan Ingle @AI-ML Trainer\"))"
   ]
  },
  {
   "cell_type": "code",
   "execution_count": null,
   "metadata": {},
   "outputs": [],
   "source": []
  }
 ],
 "metadata": {
  "kernelspec": {
   "display_name": "Python 3",
   "language": "python",
   "name": "python3"
  },
  "language_info": {
   "codemirror_mode": {
    "name": "ipython",
    "version": 3
   },
   "file_extension": ".py",
   "mimetype": "text/x-python",
   "name": "python",
   "nbconvert_exporter": "python",
   "pygments_lexer": "ipython3",
   "version": "3.7.3"
  }
 },
 "nbformat": 4,
 "nbformat_minor": 2
}
