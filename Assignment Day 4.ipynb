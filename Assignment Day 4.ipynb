{
 "cells": [
  {
   "cell_type": "code",
   "execution_count": 1,
   "metadata": {},
   "outputs": [
    {
     "name": "stdout",
     "output_type": "stream",
     "text": [
      "Addition of complex numbers is : (5+2j)\n",
      "Subtraction of complex numbers is : (1+0j)\n",
      "Multiplication of complex numbers is : (5+5j)\n",
      "Division of complex numbers is : (2+0j)\n",
      "\n",
      "\n",
      "Floor division and Modulo operations on complex numbers not possible\n"
     ]
    }
   ],
   "source": [
    "#Question 1 :\n",
    "# Research on whether addition, subtraction, multiplication, division, floor division and modulo\n",
    "# operations be performed on complex numbers. Based on your study, implement a Python\n",
    "# program to demonstrate these operations.\n",
    "\n",
    "a = (3+1j) + (2+1j)\n",
    "b = (3+1j) - (2+1j)\n",
    "c = (3+1j) * (2+1j)\n",
    "d = (20+10j) / (10+5j)\n",
    "#e = (20+10j) // (10+5j) can't take floor of complex number.\n",
    "#f = (20+10j) % (10+5j) can't mod complex numbers.\n",
    "\n",
    "print(\"Addition of complex numbers is :\" ,a)\n",
    "print(\"Subtraction of complex numbers is :\" ,b)\n",
    "print(\"Multiplication of complex numbers is :\" ,c)\n",
    "print(\"Division of complex numbers is :\" ,d)\n",
    "print(\"\\n\")\n",
    "print(\"Floor division and Modulo operations on complex numbers not possible\")"
   ]
  },
  {
   "cell_type": "markdown",
   "metadata": {},
   "source": [
    "__Question 2 :\n",
    "Research on range() functions and its parameters. Create a markdown cell and write in your own\n",
    "words (no copy-paste from google please) what you understand about it. Implement a small\n",
    "program of your choice on the same.__\n",
    "\n",
    "\n",
    "1. Range function will return sequence of numbers.\n",
    "2. By default, value starts from 0 and increments by 1 and stops at the number given.\n",
    "3. Range function has three parameters:\n",
    "    a. start: this is for specifing the strat from number. This is optional.\n",
    "    b. stop: this is for stopping the incrementing of the number. This is required.\n",
    "    c. step: this is for specifing the incrementation, by default it is 1. This is optional.\n",
    "    "
   ]
  },
  {
   "cell_type": "code",
   "execution_count": 3,
   "metadata": {},
   "outputs": [
    {
     "name": "stdout",
     "output_type": "stream",
     "text": [
      "Example: 1\n",
      "To display range start and end values.\n",
      "range(0, 5)\n",
      "\n",
      "\n",
      "Example: 2\n",
      "To display all values in the range. Default starting with 0\n",
      "0\n",
      "1\n",
      "2\n",
      "3\n",
      "4\n",
      "\n",
      "\n",
      "Example: 3\n",
      "To display values between a range.\n",
      "10\n",
      "11\n",
      "12\n",
      "13\n",
      "14\n",
      "15\n",
      "16\n",
      "17\n",
      "18\n",
      "19\n",
      "\n",
      "\n",
      "Example: 4\n",
      "To display values between a range and increment it by 3.\n",
      "10\n",
      "13\n",
      "16\n",
      "19\n"
     ]
    }
   ],
   "source": [
    "# Question 2 : \n",
    "# Research on range() functions and its parameters. Create a markdown cell and write in your own words \n",
    "# (no copy-paste from google please) what you understand about it. Implement a small program of your choice on the same.\n",
    "\n",
    "#Example: 1\n",
    "r = range(5)\n",
    "print(\"Example: 1\")\n",
    "print(\"To display range start and end values.\")\n",
    "print(r)  \n",
    "\n",
    "print(\"\\n\")\n",
    "print(\"Example: 2\")\n",
    "print(\"To display all values in the range. Default starting with 0\")\n",
    "#Example: 2\n",
    "r = range(5)\n",
    "for i in r:\n",
    "    print(i)\n",
    "    \n",
    "print(\"\\n\")\n",
    "print(\"Example: 3\")\n",
    "print(\"To display values between a range.\")\n",
    "#Example: 3\n",
    "r = range(10,20)\n",
    "for i in r:\n",
    "    print(i)\n",
    "    \n",
    "print(\"\\n\")\n",
    "print(\"Example: 4\")\n",
    "print(\"To display values between a range and increment it by 3.\")\n",
    "#Example: 4\n",
    "r = range(10,20,3)\n",
    "for i in r:\n",
    "    print(i)"
   ]
  },
  {
   "cell_type": "code",
   "execution_count": 5,
   "metadata": {},
   "outputs": [
    {
     "name": "stdout",
     "output_type": "stream",
     "text": [
      "Enter first value: 50\n",
      "Enter second value: 20\n",
      "1000\n"
     ]
    }
   ],
   "source": [
    "# Question 3:\n",
    "# Consider two numbers. Perform their subtraction and if the result of subtraction is greater than\n",
    "# 25, print their multiplication result else print their division result.\n",
    "\n",
    "a = int(input(\"Enter first value: \"))\n",
    "b = int(input(\"Enter second value: \"))\n",
    "\n",
    "\n",
    "if (a - b) > 25:\n",
    "    print(a * b)\n",
    "else:\n",
    "    print(a / b)"
   ]
  },
  {
   "cell_type": "code",
   "execution_count": 6,
   "metadata": {},
   "outputs": [
    {
     "name": "stdout",
     "output_type": "stream",
     "text": [
      "2\n",
      "14\n",
      "34\n",
      "62\n",
      "98\n"
     ]
    }
   ],
   "source": [
    "# Question 4:\n",
    "# Consider a list of 10 elements of integer values. If the number in the list is divisible by 2, print the\n",
    "# result as \"square of that number minus 2\".\n",
    "\n",
    "l = [1,2,3,4,5,6,7,8,9,10]\n",
    "for i in l:\n",
    "     if (i % 2) == 0:\n",
    "            print((i*i) - 2)        "
   ]
  },
  {
   "cell_type": "code",
   "execution_count": 7,
   "metadata": {},
   "outputs": [
    {
     "name": "stdout",
     "output_type": "stream",
     "text": [
      "15\n",
      "16\n",
      "17\n",
      "18\n",
      "19\n",
      "20\n"
     ]
    }
   ],
   "source": [
    "# Question 5:\n",
    "# Consider a list of 10 elements. Print all the elements in the list which are greater than 7 when that\n",
    "# number is divided 2.\n",
    "\n",
    "l = [11,12,13,14,15,16,17,18,19,20]\n",
    "for i in l:\n",
    "    if (i / 2) > 7:\n",
    "        print(i)"
   ]
  },
  {
   "cell_type": "code",
   "execution_count": null,
   "metadata": {},
   "outputs": [],
   "source": []
  }
 ],
 "metadata": {
  "kernelspec": {
   "display_name": "Python 3",
   "language": "python",
   "name": "python3"
  },
  "language_info": {
   "codemirror_mode": {
    "name": "ipython",
    "version": 3
   },
   "file_extension": ".py",
   "mimetype": "text/x-python",
   "name": "python",
   "nbconvert_exporter": "python",
   "pygments_lexer": "ipython3",
   "version": "3.7.3"
  }
 },
 "nbformat": 4,
 "nbformat_minor": 2
}
