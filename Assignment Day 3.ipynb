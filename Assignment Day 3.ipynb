{
 "cells": [
  {
   "cell_type": "code",
   "execution_count": 1,
   "metadata": {},
   "outputs": [
    {
     "data": {
      "text/plain": [
       "(1+1j)"
      ]
     },
     "execution_count": 1,
     "metadata": {},
     "output_type": "execute_result"
    }
   ],
   "source": [
    "# Question 1: \n",
    "#Wite a program to subtract two complex numbers in Python\n",
    "\n",
    "(3+2j) - (2+1j)"
   ]
  },
  {
   "cell_type": "code",
   "execution_count": 2,
   "metadata": {},
   "outputs": [
    {
     "data": {
      "text/plain": [
       "16"
      ]
     },
     "execution_count": 2,
     "metadata": {},
     "output_type": "execute_result"
    }
   ],
   "source": [
    "#Question 2 :\n",
    "#Write a program to find the fourth root of a number.\n",
    "\n",
    "2**4"
   ]
  },
  {
   "cell_type": "code",
   "execution_count": 4,
   "metadata": {},
   "outputs": [
    {
     "name": "stdout",
     "output_type": "stream",
     "text": [
      "Before swapping: a = 10 and b = 20\n",
      "After swapping: a = 20 and b = 10\n"
     ]
    }
   ],
   "source": [
    "#Question 3:\n",
    "#Write a program to swap two numbers in Python with the help of a temporary variable.\n",
    "\n",
    "a = 10\n",
    "b = 20\n",
    "c = 0\n",
    "print(\"Before swapping: a = \"+ str(a) + \" and b = \" + str(b))\n",
    "\n",
    "# swapping \n",
    "c = a\n",
    "a = b\n",
    "b = c\n",
    "print(\"After swapping: a = \"+ str(a) + \" and b = \" + str(b))"
   ]
  },
  {
   "cell_type": "code",
   "execution_count": 6,
   "metadata": {},
   "outputs": [
    {
     "name": "stdout",
     "output_type": "stream",
     "text": [
      "Before swapping: a = 10 and b = 20\n",
      "After swapping: a = 20 and b = 10\n"
     ]
    }
   ],
   "source": [
    "#Question 4:\n",
    "#Write a program to swap two numbers in Python without using a temporary variable.\n",
    "\n",
    "a = 10\n",
    "b = 20\n",
    "\n",
    "print(\"Before swapping: a = \"+ str(a) + \" and b = \" + str(b))\n",
    "\n",
    "#Swapping\n",
    "#a = a + a\n",
    "#b = (b * 10) / a\n",
    "\n",
    "b = b - a\n",
    "a = a + b\n",
    "print(\"After swapping: a = \"+ str(a) + \" and b = \" + str(int(b)))\n",
    "\n"
   ]
  },
  {
   "cell_type": "code",
   "execution_count": 8,
   "metadata": {},
   "outputs": [
    {
     "name": "stdout",
     "output_type": "stream",
     "text": [
      "The temperature in Fahrenheit is: 212.0\n",
      "If the same temperature is converterd to Kelvin then, it is : 373.0\n",
      "If the same temperature is converterd to Celsius then, it is : 100.0\n"
     ]
    }
   ],
   "source": [
    "#Question 5:\n",
    "#Write a program to convert fahrenheit to kelvin and celsius both.\n",
    "\n",
    "f = 212.00 #Fahrenheit\n",
    "k = (5/9 * (float(f) - 32) + 273) #Kelvin\n",
    "c = (5/9 * (float(f) - 32)) #Celsius\n",
    "\n",
    "\n",
    "print(\"The temperature in Fahrenheit is: \" + str(f))\n",
    "print(\"If the same temperature is converterd to Kelvin then, it is : \" + str(k))\n",
    "print(\"If the same temperature is converterd to Celsius then, it is : \" + str(c))"
   ]
  },
  {
   "cell_type": "code",
   "execution_count": 9,
   "metadata": {},
   "outputs": [
    {
     "name": "stdout",
     "output_type": "stream",
     "text": [
      "Number data types:\n",
      "******************\n",
      "Datatype of  10  is : <class 'int'>\n",
      "Datatype of  10.12  is : <class 'float'>\n",
      "Datatype of  (10+12j)  is : <class 'complex'>\n",
      "\n",
      "\n",
      "String data type:\n",
      "******************\n",
      "Datatype of  My name is Dwaraknath  is : <class 'str'>\n",
      "\n",
      "\n",
      "List data type:\n",
      "******************\n",
      "Datatype of  ['a', 'e', 'i', 'o', 'u']  is : <class 'list'>\n",
      "\n",
      "\n",
      "Tuple data type:\n",
      "******************\n",
      "Datatype of  ('a', 'e', 'i', 'o', 'u')  is : <class 'tuple'>\n",
      "\n",
      "\n",
      "Set data type:\n",
      "******************\n",
      "Datatype of  {'i', 'a', 'o', 'e', 'u'}  is : <class 'set'>\n",
      "\n",
      "\n",
      "Dictionary data type:\n",
      "******************\n",
      "Datatype of  {'id': 3, 'name': 'SAP'}  is : <class 'dict'>\n",
      "\n",
      "\n",
      "Range data type:\n",
      "******************\n",
      "Datatype of  range(0, 5)  is : <class 'range'>\n",
      "\n",
      "\n",
      "Boolean data type:\n",
      "******************\n",
      "Datatype of  True  is : <class 'bool'>\n",
      "\n",
      "\n",
      "Byte data type:\n",
      "******************\n",
      "Datatype of  b'\\x00\\x00\\x00\\x00\\x00\\x00\\x00\\x00\\x00\\x00'  is : <class 'bytes'>\n",
      "\n",
      "\n",
      "Bytearray data type:\n",
      "******************\n",
      "Datatype of  bytearray(b'\\x00\\x00\\x00\\x00\\x00\\x00\\x00\\x00\\x00\\x00')  is : <class 'bytearray'>\n"
     ]
    }
   ],
   "source": [
    "#Question 6:\n",
    "#Write a program to demonstrate all the available data types in Python. Hint: Use type() function.\n",
    "\n",
    "## Number Data types\n",
    "print(\"Number data types:\")\n",
    "print(\"******************\")\n",
    "n = 10\n",
    "print(\"Datatype of \" , n , \" is :\" , type(n))\n",
    "\n",
    "n = 10.12\n",
    "print(\"Datatype of \" , n , \" is :\" , type(n))\n",
    "\n",
    "n = 10+12j\n",
    "print(\"Datatype of \" , n , \" is :\" , type(n))\n",
    "\n",
    "print(\"\\n\")\n",
    "print(\"String data type:\")\n",
    "print(\"******************\")\n",
    "## String Data types\n",
    "s = \"My name is Dwaraknath\"\n",
    "print(\"Datatype of \" , s , \" is :\" , type(s))\n",
    "\n",
    "print(\"\\n\")\n",
    "print(\"List data type:\")\n",
    "print(\"******************\")\n",
    "\n",
    "## List \n",
    "l = [\"a\", \"e\", \"i\",\"o\",\"u\"]\n",
    "print(\"Datatype of \" , l , \" is :\" , type(l))\n",
    "\n",
    "print(\"\\n\")\n",
    "print(\"Tuple data type:\")\n",
    "print(\"******************\")\n",
    "\n",
    "## Tuple \n",
    "t = (\"a\", \"e\", \"i\",\"o\",\"u\")\n",
    "print(\"Datatype of \" , t , \" is :\" , type(t))\n",
    "\n",
    "print(\"\\n\")\n",
    "print(\"Set data type:\")\n",
    "print(\"******************\")\n",
    "\n",
    "## Set \n",
    "s = {\"a\", \"e\", \"i\",\"o\",\"u\"}\n",
    "print(\"Datatype of \" , s , \" is :\" , type(s))\n",
    "\n",
    "print(\"\\n\")\n",
    "print(\"Dictionary data type:\")\n",
    "print(\"******************\")\n",
    "\n",
    "## Dictionary \n",
    "d = {\"id\": 1,\"name\":\"Intel\", \n",
    "     \"id\": 2,\"name\":\"IBM\",\n",
    "     \"id\": 3,\"name\":\"SAP\"\n",
    "    }\n",
    "print(\"Datatype of \" , d , \" is :\" , type(d))\n",
    "\n",
    "print(\"\\n\")\n",
    "print(\"Range data type:\")\n",
    "print(\"******************\")\n",
    "\n",
    "## Range\n",
    "r = range(5)\n",
    "print(\"Datatype of \" , r , \" is :\" , type(r))\n",
    "\n",
    "print(\"\\n\")\n",
    "print(\"Boolean data type:\")\n",
    "print(\"******************\")\n",
    "\n",
    "## Boolean\n",
    "b = True\n",
    "print(\"Datatype of \" , b , \" is :\" , type(b))\n",
    "\n",
    "print(\"\\n\")\n",
    "print(\"Byte data type:\")\n",
    "print(\"******************\")\n",
    "\n",
    "## Byte\n",
    "b = bytes(10)\n",
    "print(\"Datatype of \" , b , \" is :\" , type(b))\n",
    "\n",
    "print(\"\\n\")\n",
    "print(\"Bytearray data type:\")\n",
    "print(\"******************\")\n",
    "\n",
    "## Bytearray\n",
    "b = bytearray(10)\n",
    "print(\"Datatype of \" , b , \" is :\" , type(b))"
   ]
  },
  {
   "cell_type": "markdown",
   "metadata": {},
   "source": [
    "#Question 7:\n",
    "#Create a Markdown cell in jupyter and list the steps discussed in the session by Dr. Darshan Ingle sir to create Github profile and upload Githubs Assignment link.\n",
    "\n",
    "\n",
    "1. Create a login in github.com\n",
    "2. Create a Repository by name \"LetsUpgrade AI/ML\". Ensure that this repository is public.\n",
    "3. Upload the assignment to this repository day wise.\n",
    "4. Copy the url and paste it in the assignment submission form.\n",
    "\n"
   ]
  },
  {
   "cell_type": "code",
   "execution_count": null,
   "metadata": {},
   "outputs": [],
   "source": []
  }
 ],
 "metadata": {
  "kernelspec": {
   "display_name": "Python 3",
   "language": "python",
   "name": "python3"
  },
  "language_info": {
   "codemirror_mode": {
    "name": "ipython",
    "version": 3
   },
   "file_extension": ".py",
   "mimetype": "text/x-python",
   "name": "python",
   "nbconvert_exporter": "python",
   "pygments_lexer": "ipython3",
   "version": "3.7.3"
  }
 },
 "nbformat": 4,
 "nbformat_minor": 2
}
