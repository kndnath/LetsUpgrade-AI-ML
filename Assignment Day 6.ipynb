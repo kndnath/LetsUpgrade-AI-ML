{
 "cells": [
  {
   "cell_type": "markdown",
   "metadata": {},
   "source": [
    "### Question 1:\n",
    "Assuming that we have some email addresses in the \"username@companyname.com\" format, please write program\n",
    "to print the company name of a given email address. Both user names and company names are composed of letters\n",
    "only.\n"
   ]
  },
  {
   "cell_type": "code",
   "execution_count": 1,
   "metadata": {},
   "outputs": [
    {
     "name": "stdout",
     "output_type": "stream",
     "text": [
      "gmail\n"
     ]
    }
   ],
   "source": [
    "s = 'kndnath@gmail.com'\n",
    "s\n",
    "c = s.split('@')\n",
    "c1 = c[1].split('.')\n",
    "print(c1[0])"
   ]
  },
  {
   "cell_type": "markdown",
   "metadata": {},
   "source": [
    "### Question 2:\n",
    "Write a program that accepts a comma-separated sequence of words as input and prints the words in a comma\n",
    "separated sequence after sorting them alphabetically."
   ]
  },
  {
   "cell_type": "code",
   "execution_count": 2,
   "metadata": {},
   "outputs": [
    {
     "name": "stdout",
     "output_type": "stream",
     "text": [
      "bag,hello,without,world\n"
     ]
    }
   ],
   "source": [
    "s = \"without,hello,bag,world\"\n",
    "s1 = s.split(',')\n",
    "s1.sort()\n",
    "s1\n",
    "\n",
    "result = \"\"\n",
    "count = 0\n",
    "for a in s1:\n",
    "    if count == 0:\n",
    "        result += a\n",
    "        count = count + 1 \n",
    "    else:\n",
    "        result += \",\" \n",
    "        result += a\n",
    "        count = count + 1\n",
    "print(result)"
   ]
  },
  {
   "cell_type": "markdown",
   "metadata": {},
   "source": [
    "### Question 3:\n",
    "Create your own Jupyter Notebook for Sets.\n",
    "Reference link: https://www.w3schools.com/python/python_sets.asp"
   ]
  },
  {
   "cell_type": "markdown",
   "metadata": {},
   "source": [
    "### Sets in Python\n",
    "\n",
    "__Set__\n",
    "\n",
    "A set is a collection which is unordered and unindexed. In Python sets are written with curly brackets."
   ]
  },
  {
   "cell_type": "code",
   "execution_count": 3,
   "metadata": {},
   "outputs": [
    {
     "name": "stdout",
     "output_type": "stream",
     "text": [
      "{'Machine Learning', 'Atificial Intelligence'}\n"
     ]
    }
   ],
   "source": [
    "#Note: Sets are unordered, so you cannot be sure in which order the items will appear.\n",
    "\n",
    "mySet = {\"Atificial Intelligence\", \"Machine Learning\"}\n",
    "print(mySet)"
   ]
  },
  {
   "cell_type": "code",
   "execution_count": 4,
   "metadata": {},
   "outputs": [
    {
     "name": "stdout",
     "output_type": "stream",
     "text": [
      "Machine Learning\n",
      "Atificial Intelligence\n"
     ]
    }
   ],
   "source": [
    "# Loop through the set, and print the values:\n",
    "\n",
    "mySet = {\"Atificial Intelligence\", \"Machine Learning\"}\n",
    "\n",
    "for i in mySet:\n",
    "    print(i)"
   ]
  },
  {
   "cell_type": "code",
   "execution_count": 5,
   "metadata": {},
   "outputs": [
    {
     "name": "stdout",
     "output_type": "stream",
     "text": [
      "True\n"
     ]
    }
   ],
   "source": [
    "# To check an item exists in a Set\n",
    "\n",
    "mySet = {\"Atificial Intelligence\", \"Machine Learning\"}\n",
    "\n",
    "print(\"Machine Learning\" in mySet)"
   ]
  },
  {
   "cell_type": "code",
   "execution_count": 6,
   "metadata": {},
   "outputs": [
    {
     "name": "stdout",
     "output_type": "stream",
     "text": [
      "{'Machine Learning', 'Atificial Intelligence', 'Deep Learning', 'Data Science'}\n"
     ]
    }
   ],
   "source": [
    "# To add a single item to set: \n",
    "\n",
    "mySet = {\"Atificial Intelligence\", \"Machine Learning\"}\n",
    "mySet.add(\"Deep Learning\")\n",
    "mySet.add(\"Data Science\")\n",
    "\n",
    "print(mySet)"
   ]
  },
  {
   "cell_type": "code",
   "execution_count": 7,
   "metadata": {},
   "outputs": [
    {
     "name": "stdout",
     "output_type": "stream",
     "text": [
      "{'difference_update()', 'add()', 'difference()', 'union()', 'copy()', 'discard()', 'clear()', 'remove()', 'pop()', 'intersection()', 'update()'}\n"
     ]
    }
   ],
   "source": [
    "# To add a multiple items to set: \"Data Science\"\n",
    "\n",
    "mySetMethods = {\"add()\", \"clear()\", \"copy()\", \"difference()\", \"difference_update()\",\"discard()\"}\n",
    "mySetMethods.update([\"intersection()\",\"pop()\",\"remove()\",\"union()\",\"update()\"])\n",
    "\n",
    "print(mySetMethods)"
   ]
  },
  {
   "cell_type": "code",
   "execution_count": 8,
   "metadata": {},
   "outputs": [
    {
     "name": "stdout",
     "output_type": "stream",
     "text": [
      "6\n"
     ]
    }
   ],
   "source": [
    "# Get the number of items in a set:\n",
    "\n",
    "mySetMethods = {\"add()\", \"clear()\", \"copy()\", \"difference()\", \"difference_update()\",\"discard()\"}\n",
    "print(len(mySetMethods))"
   ]
  },
  {
   "cell_type": "code",
   "execution_count": 9,
   "metadata": {},
   "outputs": [
    {
     "name": "stdout",
     "output_type": "stream",
     "text": [
      "{'difference_update()', 'add()', 'difference()', 'copy()', 'discard()', 'clear()', 'remove()'}\n",
      "{'difference_update()', 'add()', 'difference()', 'copy()', 'discard()', 'clear()'}\n"
     ]
    }
   ],
   "source": [
    "# To remove an items from a set:\n",
    "# Note: If the item to remove does not exist, remove() will raise an error.\n",
    "\n",
    "mySetMethods = {\"add()\", \"clear()\", \"copy()\", \"difference()\", \"difference_update()\",\"discard()\",\"remove()\"}\n",
    "print(mySetMethods)\n",
    "mySetMethods.remove(\"remove()\")\n",
    "print(mySetMethods)"
   ]
  },
  {
   "cell_type": "code",
   "execution_count": 10,
   "metadata": {},
   "outputs": [
    {
     "name": "stdout",
     "output_type": "stream",
     "text": [
      "{'difference_update()', 'add()', 'difference()', 'copy()', 'discard()', 'clear()', 'remove()'}\n",
      "{'difference_update()', 'add()', 'difference()', 'copy()', 'clear()', 'remove()'}\n"
     ]
    }
   ],
   "source": [
    "# To discard an items from a set:\n",
    "\n",
    "mySetMethods = {\"add()\", \"clear()\", \"copy()\", \"difference()\", \"difference_update()\",\"discard()\",\"remove()\"}\n",
    "print(mySetMethods)\n",
    "\n",
    "mySetMethods.discard(\"discard()\")\n",
    "print(mySetMethods)"
   ]
  },
  {
   "cell_type": "code",
   "execution_count": 11,
   "metadata": {},
   "outputs": [
    {
     "name": "stdout",
     "output_type": "stream",
     "text": [
      "difference_update()\n",
      "{'add()', 'difference()', 'copy()', 'discard()', 'clear()', 'remove()', 'pop()'}\n"
     ]
    }
   ],
   "source": [
    "# To remove an items from a set by using pop() function.\n",
    "# You can also use the pop(), method to remove an item, but this method will remove the last item. Remember that sets are unordered, so you will not know what item that gets removed.\n",
    "\n",
    "\n",
    "mySetMethods = {\"add()\", \"clear()\", \"copy()\", \"difference()\", \"difference_update()\",\"discard()\",\"remove()\", \"pop()\"}\n",
    "p = mySetMethods.pop()\n",
    "print(p)\n",
    "print(mySetMethods)"
   ]
  },
  {
   "cell_type": "code",
   "execution_count": 12,
   "metadata": {},
   "outputs": [
    {
     "name": "stdout",
     "output_type": "stream",
     "text": [
      "{'difference_update()', 'add()', 'difference()', 'copy()', 'discard()', 'clear()', 'remove()'}\n"
     ]
    },
    {
     "ename": "NameError",
     "evalue": "name 'mySetMethods' is not defined",
     "output_type": "error",
     "traceback": [
      "\u001b[1;31m---------------------------------------------------------------------------\u001b[0m",
      "\u001b[1;31mNameError\u001b[0m                                 Traceback (most recent call last)",
      "\u001b[1;32m<ipython-input-12-0d939f7bc976>\u001b[0m in \u001b[0;36m<module>\u001b[1;34m\u001b[0m\n\u001b[0;32m      5\u001b[0m \u001b[0mprint\u001b[0m\u001b[1;33m(\u001b[0m\u001b[0mmySetMethods\u001b[0m\u001b[1;33m)\u001b[0m\u001b[1;33m\u001b[0m\u001b[1;33m\u001b[0m\u001b[0m\n\u001b[0;32m      6\u001b[0m \u001b[1;32mdel\u001b[0m \u001b[0mmySetMethods\u001b[0m\u001b[1;33m\u001b[0m\u001b[1;33m\u001b[0m\u001b[0m\n\u001b[1;32m----> 7\u001b[1;33m \u001b[0mprint\u001b[0m\u001b[1;33m(\u001b[0m\u001b[0mmySetMethods\u001b[0m\u001b[1;33m)\u001b[0m\u001b[1;33m\u001b[0m\u001b[1;33m\u001b[0m\u001b[0m\n\u001b[0m",
      "\u001b[1;31mNameError\u001b[0m: name 'mySetMethods' is not defined"
     ]
    }
   ],
   "source": [
    "# To delete a set:\n",
    "\n",
    "\n",
    "mySetMethods = {\"add()\", \"clear()\", \"copy()\", \"difference()\", \"difference_update()\",\"discard()\",\"remove()\"}\n",
    "print(mySetMethods)\n",
    "del mySetMethods\n",
    "print(mySetMethods)"
   ]
  },
  {
   "cell_type": "code",
   "execution_count": 13,
   "metadata": {},
   "outputs": [
    {
     "name": "stdout",
     "output_type": "stream",
     "text": [
      "{'Machine Learning', 'Atificial Intelligence', 'Deep Learning', 'Data Science'}\n",
      "{'difference_update()', 'add()', 'difference()', 'copy()', 'discard()', 'clear()', 'remove()'}\n",
      "{'difference_update()', 'Data Science', 'add()', 'difference()', 'Machine Learning', 'Atificial Intelligence', 'Deep Learning', 'copy()', 'discard()', 'clear()', 'remove()'}\n"
     ]
    }
   ],
   "source": [
    "# The union() method returns a new set with all items from both sets:\n",
    "\n",
    "mySet = {\"Atificial Intelligence\", \"Machine Learning\",\"Deep Learning\", \"Data Science\"}\n",
    "mySetMethods = {\"add()\", \"clear()\", \"copy()\", \"difference()\", \"difference_update()\",\"discard()\",\"remove()\"}\n",
    "\n",
    "print(mySet)\n",
    "print(mySetMethods)\n",
    "\n",
    "myNewSet = mySet.union(mySetMethods)\n",
    "print(myNewSet)\n"
   ]
  },
  {
   "cell_type": "code",
   "execution_count": 14,
   "metadata": {},
   "outputs": [
    {
     "name": "stdout",
     "output_type": "stream",
     "text": [
      "{'Machine Learning', 'Atificial Intelligence', 'Deep Learning', 'Data Science'}\n",
      "{'difference_update()', 'add()', 'difference()', 'copy()', 'discard()', 'clear()', 'remove()'}\n",
      "{'difference_update()', 'Data Science', 'add()', 'difference()', 'Machine Learning', 'Atificial Intelligence', 'Deep Learning', 'copy()', 'discard()', 'clear()', 'remove()'}\n"
     ]
    }
   ],
   "source": [
    "# The update() method inserts the items in set2 into set1:\n",
    "\n",
    "mySet = {\"Atificial Intelligence\", \"Machine Learning\",\"Deep Learning\", \"Data Science\"}\n",
    "mySetMethods = {\"add()\", \"clear()\", \"copy()\", \"difference()\", \"difference_update()\",\"discard()\",\"remove()\"}\n",
    "\n",
    "print(mySet)\n",
    "print(mySetMethods)\n",
    "\n",
    "mySet.update(mySetMethods)\n",
    "print(mySet)\n"
   ]
  },
  {
   "cell_type": "markdown",
   "metadata": {},
   "source": [
    "### Question 4:\n",
    "Given a list of n-1 numbers ranging from 1 to n, your task is to find the missing number. There are no duplicates."
   ]
  },
  {
   "cell_type": "code",
   "execution_count": 15,
   "metadata": {},
   "outputs": [
    {
     "name": "stdout",
     "output_type": "stream",
     "text": [
      "5\n"
     ]
    }
   ],
   "source": [
    "s = \"1 2 4 6 3 7 8\"\n",
    "s1 = s.split(\" \")\n",
    "s1.sort()\n",
    "c = 0\n",
    "fs = \"\"\n",
    "\n",
    "while c < len(s1)-1:\n",
    "    if int(s1[c + 1]) - int(s1[c]) != 1:\n",
    "        print(int(s1[c]) + 1)\n",
    "    c = c + 1"
   ]
  },
  {
   "cell_type": "markdown",
   "metadata": {},
   "source": [
    "### Question 5:\n",
    "With a given list L, write a program to print this list L after removing all duplicate values with original order reserved."
   ]
  },
  {
   "cell_type": "code",
   "execution_count": 16,
   "metadata": {},
   "outputs": [
    {
     "name": "stdout",
     "output_type": "stream",
     "text": [
      "[12, 24, 35, 88, 120, 155]\n"
     ]
    }
   ],
   "source": [
    "l = [12, 24, 35, 24, 88, 120, 155, 88, 120, 155]\n",
    "nl = []\n",
    "for i in l:\n",
    "#     print(i)\n",
    "    for j in l:\n",
    "        if nl.count(i) == 0:\n",
    "            nl.append(i)\n",
    "#             print(nl)\n",
    "print(nl)      "
   ]
  },
  {
   "cell_type": "code",
   "execution_count": null,
   "metadata": {},
   "outputs": [],
   "source": []
  }
 ],
 "metadata": {
  "kernelspec": {
   "display_name": "Python 3",
   "language": "python",
   "name": "python3"
  },
  "language_info": {
   "codemirror_mode": {
    "name": "ipython",
    "version": 3
   },
   "file_extension": ".py",
   "mimetype": "text/x-python",
   "name": "python",
   "nbconvert_exporter": "python",
   "pygments_lexer": "ipython3",
   "version": "3.7.3"
  }
 },
 "nbformat": 4,
 "nbformat_minor": 2
}
